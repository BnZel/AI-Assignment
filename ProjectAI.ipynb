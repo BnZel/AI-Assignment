{
 "cells": [
  {
   "cell_type": "code",
   "execution_count": 1,
   "metadata": {},
   "outputs": [],
   "source": [
    "import pandas as pd"
   ]
  },
  {
   "cell_type": "code",
   "execution_count": 2,
   "metadata": {},
   "outputs": [],
   "source": [
    "import numpy as np"
   ]
  },
  {
   "cell_type": "code",
   "execution_count": 4,
   "metadata": {},
   "outputs": [],
   "source": [
    "boxers_data = pd.DataFrame({'Name':[\"Tony Yoka\"\n",
    "                                    ,\"Anthony Joshua\"\n",
    "                                    ,\"Andy Ruiz Jr\"\n",
    "                                    ,\"Deontay Wilder\"\n",
    "                                    ,\"Dominic Breazale\"\n",
    "                                    ,\"Erkan Teper\"\n",
    "                                    ,\"Luis Ortiz\"],\n",
    "                           \n",
    "                           \n",
    "                           'Height':[\"6'7\",\"6'6\",\"6'2\",\"6'7\",\"6'7\",\"6'5\",\"6'4\"],\n",
    "                           \n",
    "                           'Weight':[\"105kg\",\"113kg\",\"128kg\",\"96kg\",\"116kg\",\"114kg\",\"109kg\"],\n",
    "                            'Wins':[7,23,33,42,20,20,31],\n",
    "                            'Lose':[0,1,2,0,2,3,2],\n",
    "                            'Age':[27,30,30,34,34,37,40],\n",
    "                            'KOs':[6,21,22,41,18,13,26],\n",
    "                             'KOs Rate':[\"85.71%\",\"87.5%\",\"62.86%\",\"95.35%\",\"81.82%\",\"56.52%\",\"74.29%\"]\n",
    "                           })"
   ]
  },
  {
   "cell_type": "code",
   "execution_count": 6,
   "metadata": {},
   "outputs": [
    {
     "data": {
      "text/html": [
       "<div>\n",
       "<style scoped>\n",
       "    .dataframe tbody tr th:only-of-type {\n",
       "        vertical-align: middle;\n",
       "    }\n",
       "\n",
       "    .dataframe tbody tr th {\n",
       "        vertical-align: top;\n",
       "    }\n",
       "\n",
       "    .dataframe thead th {\n",
       "        text-align: right;\n",
       "    }\n",
       "</style>\n",
       "<table border=\"1\" class=\"dataframe\">\n",
       "  <thead>\n",
       "    <tr style=\"text-align: right;\">\n",
       "      <th></th>\n",
       "      <th>Name</th>\n",
       "      <th>Height</th>\n",
       "      <th>Weight</th>\n",
       "      <th>Wins</th>\n",
       "      <th>Lose</th>\n",
       "      <th>Age</th>\n",
       "      <th>KOs</th>\n",
       "      <th>KOs Rate</th>\n",
       "    </tr>\n",
       "  </thead>\n",
       "  <tbody>\n",
       "    <tr>\n",
       "      <th>0</th>\n",
       "      <td>Tony Yoka</td>\n",
       "      <td>6'7</td>\n",
       "      <td>105kg</td>\n",
       "      <td>7</td>\n",
       "      <td>0</td>\n",
       "      <td>27</td>\n",
       "      <td>6</td>\n",
       "      <td>85.71%</td>\n",
       "    </tr>\n",
       "    <tr>\n",
       "      <th>1</th>\n",
       "      <td>Anthony Joshua</td>\n",
       "      <td>6'6</td>\n",
       "      <td>113kg</td>\n",
       "      <td>23</td>\n",
       "      <td>1</td>\n",
       "      <td>30</td>\n",
       "      <td>21</td>\n",
       "      <td>87.5%</td>\n",
       "    </tr>\n",
       "    <tr>\n",
       "      <th>2</th>\n",
       "      <td>Andy Ruiz Jr</td>\n",
       "      <td>6'2</td>\n",
       "      <td>128kg</td>\n",
       "      <td>33</td>\n",
       "      <td>2</td>\n",
       "      <td>30</td>\n",
       "      <td>22</td>\n",
       "      <td>62.86%</td>\n",
       "    </tr>\n",
       "    <tr>\n",
       "      <th>3</th>\n",
       "      <td>Deontay Wilder</td>\n",
       "      <td>6'7</td>\n",
       "      <td>96kg</td>\n",
       "      <td>42</td>\n",
       "      <td>0</td>\n",
       "      <td>34</td>\n",
       "      <td>41</td>\n",
       "      <td>95.35%</td>\n",
       "    </tr>\n",
       "    <tr>\n",
       "      <th>4</th>\n",
       "      <td>Dominic Breazale</td>\n",
       "      <td>6'7</td>\n",
       "      <td>116kg</td>\n",
       "      <td>20</td>\n",
       "      <td>2</td>\n",
       "      <td>34</td>\n",
       "      <td>18</td>\n",
       "      <td>81.82%</td>\n",
       "    </tr>\n",
       "    <tr>\n",
       "      <th>5</th>\n",
       "      <td>Erkan Teper</td>\n",
       "      <td>6'5</td>\n",
       "      <td>114kg</td>\n",
       "      <td>20</td>\n",
       "      <td>3</td>\n",
       "      <td>37</td>\n",
       "      <td>13</td>\n",
       "      <td>56.52%</td>\n",
       "    </tr>\n",
       "    <tr>\n",
       "      <th>6</th>\n",
       "      <td>Luis Ortiz</td>\n",
       "      <td>6'4</td>\n",
       "      <td>109kg</td>\n",
       "      <td>31</td>\n",
       "      <td>2</td>\n",
       "      <td>40</td>\n",
       "      <td>26</td>\n",
       "      <td>74.29%</td>\n",
       "    </tr>\n",
       "  </tbody>\n",
       "</table>\n",
       "</div>"
      ],
      "text/plain": [
       "               Name Height Weight  Wins  Lose  Age  KOs KOs Rate\n",
       "0         Tony Yoka    6'7  105kg     7     0   27    6   85.71%\n",
       "1    Anthony Joshua    6'6  113kg    23     1   30   21    87.5%\n",
       "2      Andy Ruiz Jr    6'2  128kg    33     2   30   22   62.86%\n",
       "3    Deontay Wilder    6'7   96kg    42     0   34   41   95.35%\n",
       "4  Dominic Breazale    6'7  116kg    20     2   34   18   81.82%\n",
       "5       Erkan Teper    6'5  114kg    20     3   37   13   56.52%\n",
       "6        Luis Ortiz    6'4  109kg    31     2   40   26   74.29%"
      ]
     },
     "execution_count": 6,
     "metadata": {},
     "output_type": "execute_result"
    }
   ],
   "source": [
    "boxers_data"
   ]
  },
  {
   "cell_type": "code",
   "execution_count": 23,
   "metadata": {},
   "outputs": [
    {
     "data": {
      "text/plain": [
       "0    1.000000\n",
       "1    0.958333\n",
       "2    0.942857\n",
       "3    1.000000\n",
       "4    0.909091\n",
       "5    0.869565\n",
       "6    0.939394\n",
       "Name: Chance_To_Win, dtype: float64"
      ]
     },
     "execution_count": 23,
     "metadata": {},
     "output_type": "execute_result"
    }
   ],
   "source": [
    "\n",
    "boxers_data[\"Chance_To_Win\"] = (boxers_data[\"Wins\"])/(boxers_data[\"Wins\"]+boxers_data[\"Lose\"])\n",
    "boxers_data[\"Chance_To_Win\"]"
   ]
  },
  {
   "cell_type": "code",
   "execution_count": 26,
   "metadata": {},
   "outputs": [],
   "source": [
    "#if a boxer has KO rate of 85 or more and a chance rate of 0.9 or more he got a high chance to win\n",
    "boxers_data[\"Chance_To_Win\"] = (boxers_data[\"KOs Rate\"].str.replace('%','').astype('float')>=85) & (boxers_data[\"Chance_To_Win\"] >= 0.9) "
   ]
  },
  {
   "cell_type": "code",
   "execution_count": 30,
   "metadata": {},
   "outputs": [],
   "source": [
    "boxers_data[\"Chance_To_Win\"] = boxers_data[\"Chance_To_Win\"].astype('int')"
   ]
  },
  {
   "cell_type": "code",
   "execution_count": 31,
   "metadata": {},
   "outputs": [
    {
     "data": {
      "text/html": [
       "<div>\n",
       "<style scoped>\n",
       "    .dataframe tbody tr th:only-of-type {\n",
       "        vertical-align: middle;\n",
       "    }\n",
       "\n",
       "    .dataframe tbody tr th {\n",
       "        vertical-align: top;\n",
       "    }\n",
       "\n",
       "    .dataframe thead th {\n",
       "        text-align: right;\n",
       "    }\n",
       "</style>\n",
       "<table border=\"1\" class=\"dataframe\">\n",
       "  <thead>\n",
       "    <tr style=\"text-align: right;\">\n",
       "      <th></th>\n",
       "      <th>Name</th>\n",
       "      <th>Height</th>\n",
       "      <th>Weight</th>\n",
       "      <th>Wins</th>\n",
       "      <th>Lose</th>\n",
       "      <th>Age</th>\n",
       "      <th>KOs</th>\n",
       "      <th>KOs Rate</th>\n",
       "      <th>Chance_To_Win</th>\n",
       "    </tr>\n",
       "  </thead>\n",
       "  <tbody>\n",
       "    <tr>\n",
       "      <th>0</th>\n",
       "      <td>Tony Yoka</td>\n",
       "      <td>6'7</td>\n",
       "      <td>105kg</td>\n",
       "      <td>7</td>\n",
       "      <td>0</td>\n",
       "      <td>27</td>\n",
       "      <td>6</td>\n",
       "      <td>85.71%</td>\n",
       "      <td>1</td>\n",
       "    </tr>\n",
       "    <tr>\n",
       "      <th>1</th>\n",
       "      <td>Anthony Joshua</td>\n",
       "      <td>6'6</td>\n",
       "      <td>113kg</td>\n",
       "      <td>23</td>\n",
       "      <td>1</td>\n",
       "      <td>30</td>\n",
       "      <td>21</td>\n",
       "      <td>87.5%</td>\n",
       "      <td>1</td>\n",
       "    </tr>\n",
       "    <tr>\n",
       "      <th>2</th>\n",
       "      <td>Andy Ruiz Jr</td>\n",
       "      <td>6'2</td>\n",
       "      <td>128kg</td>\n",
       "      <td>33</td>\n",
       "      <td>2</td>\n",
       "      <td>30</td>\n",
       "      <td>22</td>\n",
       "      <td>62.86%</td>\n",
       "      <td>0</td>\n",
       "    </tr>\n",
       "    <tr>\n",
       "      <th>3</th>\n",
       "      <td>Deontay Wilder</td>\n",
       "      <td>6'7</td>\n",
       "      <td>96kg</td>\n",
       "      <td>42</td>\n",
       "      <td>0</td>\n",
       "      <td>34</td>\n",
       "      <td>41</td>\n",
       "      <td>95.35%</td>\n",
       "      <td>1</td>\n",
       "    </tr>\n",
       "    <tr>\n",
       "      <th>4</th>\n",
       "      <td>Dominic Breazale</td>\n",
       "      <td>6'7</td>\n",
       "      <td>116kg</td>\n",
       "      <td>20</td>\n",
       "      <td>2</td>\n",
       "      <td>34</td>\n",
       "      <td>18</td>\n",
       "      <td>81.82%</td>\n",
       "      <td>0</td>\n",
       "    </tr>\n",
       "  </tbody>\n",
       "</table>\n",
       "</div>"
      ],
      "text/plain": [
       "               Name Height Weight  Wins  Lose  Age  KOs KOs Rate  \\\n",
       "0         Tony Yoka    6'7  105kg     7     0   27    6   85.71%   \n",
       "1    Anthony Joshua    6'6  113kg    23     1   30   21    87.5%   \n",
       "2      Andy Ruiz Jr    6'2  128kg    33     2   30   22   62.86%   \n",
       "3    Deontay Wilder    6'7   96kg    42     0   34   41   95.35%   \n",
       "4  Dominic Breazale    6'7  116kg    20     2   34   18   81.82%   \n",
       "\n",
       "   Chance_To_Win  \n",
       "0              1  \n",
       "1              1  \n",
       "2              0  \n",
       "3              1  \n",
       "4              0  "
      ]
     },
     "execution_count": 31,
     "metadata": {},
     "output_type": "execute_result"
    }
   ],
   "source": [
    "#0 mean unsure , 1 more likely\n",
    "boxers_data.head()"
   ]
  },
  {
   "cell_type": "code",
   "execution_count": 32,
   "metadata": {},
   "outputs": [],
   "source": [
    "boxers_data.to_csv('boxers_data')"
   ]
  },
  {
   "cell_type": "code",
   "execution_count": null,
   "metadata": {},
   "outputs": [],
   "source": []
  }
 ],
 "metadata": {
  "kernelspec": {
   "display_name": "Python 3",
   "language": "python",
   "name": "python3"
  },
  "language_info": {
   "codemirror_mode": {
    "name": "ipython",
    "version": 3
   },
   "file_extension": ".py",
   "mimetype": "text/x-python",
   "name": "python",
   "nbconvert_exporter": "python",
   "pygments_lexer": "ipython3",
   "version": "3.7.4"
  }
 },
 "nbformat": 4,
 "nbformat_minor": 2
}
