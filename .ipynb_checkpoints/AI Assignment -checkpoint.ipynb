{
 "cells": [
  {
   "cell_type": "code",
   "execution_count": 2,
   "metadata": {},
   "outputs": [
    {
     "ename": "ModuleNotFoundError",
     "evalue": "No module named 'pydeck'",
     "output_type": "error",
     "traceback": [
      "\u001b[1;31m---------------------------------------------------------------------------\u001b[0m",
      "\u001b[1;31mModuleNotFoundError\u001b[0m                       Traceback (most recent call last)",
      "\u001b[1;32m<ipython-input-2-ec72bac277be>\u001b[0m in \u001b[0;36m<module>\u001b[1;34m\u001b[0m\n\u001b[1;32m----> 1\u001b[1;33m \u001b[1;32mimport\u001b[0m \u001b[0mpydeck\u001b[0m \u001b[1;32mas\u001b[0m \u001b[0mpdk\u001b[0m\u001b[1;33m\u001b[0m\u001b[1;33m\u001b[0m\u001b[0m\n\u001b[0m\u001b[0;32m      2\u001b[0m \u001b[1;33m\u001b[0m\u001b[0m\n\u001b[0;32m      3\u001b[0m \u001b[1;31m# 2014 location of car accidents in the UK\u001b[0m\u001b[1;33m\u001b[0m\u001b[1;33m\u001b[0m\u001b[1;33m\u001b[0m\u001b[0m\n\u001b[0;32m      4\u001b[0m \u001b[0mUK_ACCIDENTS_DATA\u001b[0m \u001b[1;33m=\u001b[0m \u001b[1;34m'https://raw.githubusercontent.com/uber-common/deck.gl-data/master/examples/3d-heatmap/heatmap-data.csv'\u001b[0m\u001b[1;33m\u001b[0m\u001b[1;33m\u001b[0m\u001b[0m\n\u001b[0;32m      5\u001b[0m \u001b[1;33m\u001b[0m\u001b[0m\n",
      "\u001b[1;31mModuleNotFoundError\u001b[0m: No module named 'pydeck'"
     ]
    }
   ],
   "source": [
    "import pydeck as pdk\n",
    "\n",
    "# 2014 location of car accidents in the UK\n",
    "UK_ACCIDENTS_DATA = 'https://raw.githubusercontent.com/uber-common/deck.gl-data/master/examples/3d-heatmap/heatmap-data.csv'\n",
    "\n",
    "# Define a layer to display on a map\n",
    "layer = pdk.Layer(\n",
    "    'HexagonLayer',\n",
    "    UK_ACCIDENTS_DATA,\n",
    "    get_position='[lng, lat]',\n",
    "    auto_highlight=True,\n",
    "    elevation_scale=50,\n",
    "    pickable=True,\n",
    "    elevation_range=[0, 3000],\n",
    "    extruded=True,                 \n",
    "    coverage=1)\n",
    "\n",
    "# Set the viewport location\n",
    "view_state = pdk.ViewState(\n",
    "    longitude=-1.415,\n",
    "    latitude=52.2323,\n",
    "    zoom=6,\n",
    "    min_zoom=5,\n",
    "    max_zoom=15,\n",
    "    pitch=40.5,\n",
    "    bearing=-27.36)\n",
    "\n",
    "# Render\n",
    "r = pdk.Deck(layers=[layer], initial_view_state=view_state)"
   ]
  },
  {
   "cell_type": "code",
   "execution_count": 16,
   "metadata": {},
   "outputs": [],
   "source": [
    "import numpy as np\n",
    "import pandas as pd"
   ]
  },
  {
   "cell_type": "code",
   "execution_count": 4,
   "metadata": {},
   "outputs": [],
   "source": [
    "# Import the data from csv.\n",
    "ufc = pd.read_csv('data/data.csv')"
   ]
  },
  {
   "cell_type": "code",
   "execution_count": 5,
   "metadata": {},
   "outputs": [
    {
     "data": {
      "text/plain": [
       "0"
      ]
     },
     "execution_count": 5,
     "metadata": {},
     "output_type": "execute_result"
    }
   ],
   "source": [
    "# Check for duplicate values.\n",
    "ufc.duplicated().sum()"
   ]
  },
  {
   "cell_type": "code",
   "execution_count": 6,
   "metadata": {},
   "outputs": [
    {
     "data": {
      "text/plain": [
       "R_fighter                          0\n",
       "B_fighter                          0\n",
       "Referee                           23\n",
       "date                               0\n",
       "location                           0\n",
       "Winner                             0\n",
       "title_bout                         0\n",
       "weight_class                       0\n",
       "no_of_rounds                       0\n",
       "B_current_lose_streak              0\n",
       "B_current_win_streak               0\n",
       "B_draw                             0\n",
       "B_avg_BODY_att                  1265\n",
       "B_avg_BODY_landed               1265\n",
       "B_avg_CLINCH_att                1265\n",
       "B_avg_CLINCH_landed             1265\n",
       "B_avg_DISTANCE_att              1265\n",
       "B_avg_DISTANCE_landed           1265\n",
       "B_avg_GROUND_att                1265\n",
       "B_avg_GROUND_landed             1265\n",
       "B_avg_HEAD_att                  1265\n",
       "B_avg_HEAD_landed               1265\n",
       "B_avg_KD                        1265\n",
       "B_avg_LEG_att                   1265\n",
       "B_avg_LEG_landed                1265\n",
       "B_avg_PASS                      1265\n",
       "B_avg_REV                       1265\n",
       "B_avg_SIG_STR_att               1265\n",
       "B_avg_SIG_STR_landed            1265\n",
       "B_avg_SIG_STR_pct               1265\n",
       "                                ... \n",
       "R_avg_opp_KD                     650\n",
       "R_avg_opp_LEG_att                650\n",
       "R_avg_opp_LEG_landed             650\n",
       "R_avg_opp_PASS                   650\n",
       "R_avg_opp_REV                    650\n",
       "R_avg_opp_SIG_STR_att            650\n",
       "R_avg_opp_SIG_STR_landed         650\n",
       "R_avg_opp_SIG_STR_pct            650\n",
       "R_avg_opp_SUB_ATT                650\n",
       "R_avg_opp_TD_att                 650\n",
       "R_avg_opp_TD_landed              650\n",
       "R_avg_opp_TD_pct                 650\n",
       "R_avg_opp_TOTAL_STR_att          650\n",
       "R_avg_opp_TOTAL_STR_landed       650\n",
       "R_total_rounds_fought              0\n",
       "R_total_time_fought(seconds)     650\n",
       "R_total_title_bouts                0\n",
       "R_win_by_Decision_Majority         0\n",
       "R_win_by_Decision_Split            0\n",
       "R_win_by_Decision_Unanimous        0\n",
       "R_win_by_KO/TKO                    0\n",
       "R_win_by_Submission                0\n",
       "R_win_by_TKO_Doctor_Stoppage       0\n",
       "R_wins                             0\n",
       "R_Stance                         134\n",
       "R_Height_cms                       4\n",
       "R_Reach_cms                      316\n",
       "R_Weight_lbs                       3\n",
       "B_age                            172\n",
       "R_age                             64\n",
       "Length: 145, dtype: int64"
      ]
     },
     "execution_count": 6,
     "metadata": {},
     "output_type": "execute_result"
    }
   ],
   "source": [
    "# Check for null values.\n",
    "ufc.isnull().sum()"
   ]
  },
  {
   "cell_type": "code",
   "execution_count": 7,
   "metadata": {},
   "outputs": [],
   "source": [
    "# We must remove all rows that have null values!\n",
    "ufc = ufc.dropna(how='any',axis=0) "
   ]
  },
  {
   "cell_type": "code",
   "execution_count": 8,
   "metadata": {},
   "outputs": [
    {
     "data": {
      "text/plain": [
       "3202"
      ]
     },
     "execution_count": 8,
     "metadata": {},
     "output_type": "execute_result"
    }
   ],
   "source": [
    "# The number of rows was descovered to be 5144 before removing all null value rows using len(ufc.index)\n",
    "len(ufc.index)"
   ]
  },
  {
   "cell_type": "code",
   "execution_count": 9,
   "metadata": {},
   "outputs": [],
   "source": [
    "# We must split the 3202 rows into testing and learning.\n",
    "ufc_train = ufc.sample(frac = 0.75, random_state = 99)\n",
    "ufc_test = ufc.loc[~ufc.index.isin(ufc_train.index), :]"
   ]
  },
  {
   "cell_type": "code",
   "execution_count": null,
   "metadata": {},
   "outputs": [],
   "source": []
  },
  {
   "cell_type": "code",
   "execution_count": 14,
   "metadata": {},
   "outputs": [
    {
     "name": "stdout",
     "output_type": "stream",
     "text": [
      "['Blue' 'Red' 'Red' 'Blue' 'Blue' 'Blue' 'Red' 'Red' 'Red' 'Red' 'Red'\n",
      " 'Blue' 'Red' 'Red' 'Blue' 'Red' 'Blue' 'Red' 'Red' 'Blue' 'Red' 'Red'\n",
      " 'Blue' 'Blue' 'Red' 'Blue' 'Blue' 'Red' 'Red' 'Red' 'Blue' 'Blue' 'Red'\n",
      " 'Red' 'Red' 'Blue' 'Red' 'Red' 'Red' 'Blue' 'Blue' 'Red' 'Red' 'Red'\n",
      " 'Red' 'Blue' 'Blue' 'Blue' 'Blue' 'Red' 'Red' 'Blue' 'Red' 'Blue' 'Blue'\n",
      " 'Red' 'Red' 'Red' 'Blue' 'Red' 'Red' 'Blue' 'Red' 'Red' 'Red' 'Red' 'Red'\n",
      " 'Red' 'Red' 'Blue' 'Red' 'Red' 'Blue' 'Red' 'Blue' 'Blue' 'Draw' 'Red'\n",
      " 'Red' 'Blue' 'Blue' 'Blue' 'Red' 'Blue' 'Blue' 'Blue' 'Red' 'Blue' 'Red'\n",
      " 'Blue' 'Blue' 'Blue' 'Red' 'Blue' 'Red' 'Red' 'Red' 'Blue' 'Red' 'Blue'\n",
      " 'Blue' 'Blue' 'Blue' 'Red' 'Red' 'Red' 'Red' 'Red' 'Red' 'Blue' 'Red'\n",
      " 'Red' 'Red' 'Red' 'Red' 'Red' 'Red' 'Red' 'Blue' 'Red' 'Draw' 'Blue'\n",
      " 'Red' 'Red' 'Draw' 'Red' 'Red' 'Blue' 'Red' 'Blue' 'Red' 'Red' 'Blue'\n",
      " 'Blue' 'Draw' 'Blue' 'Red' 'Red' 'Blue' 'Red' 'Red' 'Red' 'Red' 'Blue'\n",
      " 'Blue' 'Blue' 'Blue' 'Red' 'Red' 'Blue' 'Blue' 'Blue' 'Red' 'Blue' 'Red'\n",
      " 'Red' 'Blue' 'Red' 'Blue' 'Red' 'Red' 'Blue' 'Red' 'Blue' 'Red' 'Red'\n",
      " 'Blue' 'Red' 'Red' 'Red' 'Red' 'Draw' 'Red' 'Red' 'Blue' 'Red' 'Red'\n",
      " 'Red' 'Blue' 'Red' 'Red' 'Red' 'Red' 'Blue' 'Blue' 'Draw' 'Red' 'Red'\n",
      " 'Red' 'Red' 'Draw' 'Red' 'Red' 'Red' 'Blue' 'Red' 'Red' 'Red' 'Blue'\n",
      " 'Blue' 'Red' 'Red' 'Blue' 'Red' 'Blue' 'Blue' 'Red' 'Blue' 'Blue' 'Red'\n",
      " 'Red' 'Blue' 'Blue' 'Blue' 'Red' 'Red' 'Red' 'Blue' 'Red' 'Blue' 'Red'\n",
      " 'Red' 'Red' 'Red' 'Red' 'Red' 'Blue' 'Draw' 'Blue' 'Red' 'Red' 'Red'\n",
      " 'Blue' 'Blue' 'Red' 'Red' 'Red' 'Blue' 'Red' 'Red' 'Red' 'Blue' 'Blue'\n",
      " 'Red' 'Red' 'Blue' 'Red' 'Red' 'Red' 'Red' 'Red' 'Red' 'Red' 'Red' 'Blue'\n",
      " 'Red' 'Blue' 'Red' 'Red' 'Blue' 'Blue' 'Blue' 'Blue' 'Red' 'Blue' 'Draw'\n",
      " 'Red' 'Blue' 'Red' 'Blue' 'Red' 'Blue' 'Red' 'Blue' 'Red' 'Blue' 'Red'\n",
      " 'Blue' 'Red' 'Red' 'Red' 'Red' 'Blue' 'Draw' 'Blue' 'Red' 'Red' 'Red'\n",
      " 'Red' 'Blue' 'Red' 'Red' 'Blue' 'Blue' 'Red' 'Red' 'Blue' 'Blue' 'Red'\n",
      " 'Red' 'Blue' 'Red' 'Red' 'Red' 'Red' 'Blue' 'Blue' 'Red' 'Red' 'Draw'\n",
      " 'Red' 'Red' 'Red' 'Blue' 'Blue' 'Blue' 'Blue' 'Red' 'Blue' 'Blue' 'Red'\n",
      " 'Red' 'Red' 'Red' 'Blue' 'Red' 'Red' 'Blue' 'Red' 'Red' 'Red' 'Red' 'Red'\n",
      " 'Red' 'Red' 'Red' 'Red' 'Red' 'Red' 'Blue' 'Draw' 'Red' 'Red' 'Blue'\n",
      " 'Blue' 'Red' 'Red' 'Red' 'Red' 'Red' 'Red' 'Blue' 'Blue' 'Red' 'Red'\n",
      " 'Blue' 'Red' 'Red' 'Red' 'Red' 'Red' 'Red' 'Blue' 'Red' 'Blue' 'Red'\n",
      " 'Blue' 'Blue' 'Red' 'Red' 'Blue' 'Blue' 'Red' 'Blue' 'Draw' 'Blue' 'Blue'\n",
      " 'Red' 'Blue' 'Red' 'Blue' 'Red' 'Red' 'Red' 'Red' 'Red' 'Red' 'Red' 'Red'\n",
      " 'Red' 'Red' 'Draw' 'Red' 'Red' 'Red' 'Blue' 'Red' 'Red' 'Red' 'Red'\n",
      " 'Blue' 'Red' 'Red' 'Red' 'Red' 'Red' 'Red' 'Red' 'Blue' 'Blue' 'Blue'\n",
      " 'Red' 'Red' 'Red' 'Blue' 'Blue' 'Blue' 'Blue' 'Red' 'Red' 'Red' 'Red'\n",
      " 'Red' 'Blue' 'Blue' 'Blue' 'Red' 'Red' 'Blue' 'Red' 'Blue' 'Blue' 'Red'\n",
      " 'Red' 'Red' 'Blue' 'Red' 'Blue' 'Red' 'Red' 'Blue' 'Red' 'Red' 'Draw'\n",
      " 'Red' 'Red' 'Red' 'Red' 'Blue' 'Red' 'Red' 'Red' 'Red' 'Red' 'Blue'\n",
      " 'Blue' 'Blue' 'Red' 'Blue' 'Blue' 'Blue' 'Red' 'Red' 'Blue' 'Blue' 'Red'\n",
      " 'Red' 'Blue' 'Red' 'Red' 'Red' 'Red' 'Red' 'Blue' 'Red' 'Draw' 'Red'\n",
      " 'Red' 'Red' 'Red' 'Blue' 'Blue' 'Blue' 'Blue' 'Red' 'Draw' 'Red' 'Red'\n",
      " 'Red' 'Red' 'Blue' 'Blue' 'Red' 'Red' 'Red' 'Blue' 'Red' 'Blue' 'Red'\n",
      " 'Red' 'Blue' 'Red' 'Blue' 'Red' 'Red' 'Draw' 'Red' 'Red' 'Red' 'Red'\n",
      " 'Red' 'Red' 'Blue' 'Red' 'Blue' 'Blue' 'Red' 'Red' 'Red' 'Blue' 'Blue'\n",
      " 'Blue' 'Red' 'Blue' 'Blue' 'Red' 'Blue' 'Red' 'Blue' 'Red' 'Blue' 'Red'\n",
      " 'Blue' 'Red' 'Blue' 'Blue' 'Red' 'Red' 'Red' 'Red' 'Blue' 'Blue' 'Red'\n",
      " 'Red' 'Red' 'Blue' 'Blue' 'Red' 'Red' 'Blue' 'Red' 'Blue' 'Red' 'Blue'\n",
      " 'Red' 'Red' 'Red' 'Blue' 'Red' 'Red' 'Red' 'Red' 'Red' 'Red' 'Blue' 'Red'\n",
      " 'Blue' 'Red' 'Blue' 'Blue' 'Red' 'Blue' 'Blue' 'Red' 'Red' 'Red' 'Draw'\n",
      " 'Red' 'Red' 'Blue' 'Red' 'Blue' 'Red' 'Red' 'Red' 'Blue' 'Red' 'Red'\n",
      " 'Blue' 'Blue' 'Red' 'Red' 'Red' 'Red' 'Blue' 'Blue' 'Blue' 'Red' 'Red'\n",
      " 'Draw' 'Blue' 'Red' 'Red' 'Red' 'Red' 'Blue' 'Blue' 'Blue' 'Red' 'Blue'\n",
      " 'Blue' 'Red' 'Blue' 'Blue' 'Blue' 'Red' 'Red' 'Red' 'Red' 'Red' 'Blue'\n",
      " 'Blue' 'Red' 'Blue' 'Red' 'Blue' 'Red' 'Blue' 'Blue' 'Red' 'Red' 'Red'\n",
      " 'Red' 'Blue' 'Red' 'Red' 'Red' 'Red' 'Red' 'Red' 'Blue' 'Red' 'Red'\n",
      " 'Blue' 'Red' 'Red' 'Blue' 'Blue' 'Blue' 'Blue' 'Red' 'Red' 'Red' 'Blue'\n",
      " 'Red' 'Blue' 'Red' 'Blue' 'Blue' 'Blue' 'Blue' 'Red' 'Red' 'Red' 'Red'\n",
      " 'Blue' 'Red' 'Red' 'Red' 'Draw' 'Red' 'Blue' 'Red' 'Red' 'Red' 'Red'\n",
      " 'Blue' 'Red' 'Red' 'Red' 'Red' 'Blue' 'Blue' 'Blue' 'Red' 'Red' 'Blue'\n",
      " 'Red' 'Draw' 'Red' 'Blue' 'Red' 'Red' 'Red' 'Red' 'Blue' 'Red' 'Red'\n",
      " 'Red' 'Red' 'Blue' 'Blue' 'Red' 'Red' 'Blue' 'Blue' 'Red' 'Red' 'Red'\n",
      " 'Red' 'Blue' 'Red' 'Blue' 'Red' 'Red' 'Red' 'Red' 'Red' 'Blue' 'Red'\n",
      " 'Blue' 'Blue' 'Blue' 'Red' 'Red' 'Red' 'Blue' 'Red' 'Red' 'Red' 'Red'\n",
      " 'Blue' 'Red' 'Blue' 'Red' 'Red' 'Blue' 'Red' 'Blue' 'Red' 'Red' 'Red'\n",
      " 'Red' 'Red' 'Red' 'Red' 'Red' 'Red' 'Blue' 'Blue' 'Red' 'Blue' 'Red'\n",
      " 'Red' 'Red' 'Blue' 'Red' 'Red' 'Red' 'Red' 'Red' 'Red' 'Red' 'Blue'\n",
      " 'Blue' 'Red' 'Red' 'Red' 'Red' 'Blue' 'Red' 'Blue' 'Blue' 'Red' 'Blue'\n",
      " 'Red' 'Red' 'Red' 'Blue' 'Blue' 'Red' 'Red' 'Red' 'Red' 'Red' 'Red' 'Red'\n",
      " 'Blue' 'Red' 'Blue' 'Red' 'Red' 'Red' 'Red' 'Red' 'Red' 'Red' 'Blue'\n",
      " 'Red' 'Red']\n"
     ]
    }
   ],
   "source": [
    "from sklearn import tree\n",
    "\n",
    "# Initializing Varriables\n",
    "features = ufc_train[[\n",
    "    'B_wins', \n",
    "    'R_wins',  \n",
    "    'B_losses',\n",
    "    'R_losses',\n",
    "    'B_win_by_KO/TKO',\n",
    "    'R_win_by_KO/TKO',\n",
    "    'B_win_by_Submission',\n",
    "    'R_win_by_Submission',\n",
    "    'B_current_win_streak',  \n",
    "    'R_current_win_streak',\n",
    "    'B_current_lose_streak',\n",
    "    'R_current_lose_streak',\n",
    "    'B_Height_cms',\n",
    "    'R_Height_cms',\n",
    "    'B_Weight_lbs',\n",
    "    'R_Weight_lbs',\n",
    "    'B_Reach_cms',\n",
    "    'R_Reach_cms']].values\n",
    "\n",
    "labels = ufc_train['Winner'].values\n",
    "\n",
    "# Learning Code\n",
    "clf = tree.DecisionTreeClassifier() \n",
    "cls = clf.fit(features, labels) \n",
    "\n",
    "# Prediction Code\n",
    "test_features = ufc_test[[\n",
    "    'B_wins', \n",
    "    'R_wins',  \n",
    "    'B_losses',\n",
    "    'R_losses',\n",
    "    'B_win_by_KO/TKO',\n",
    "    'R_win_by_KO/TKO',\n",
    "    'B_win_by_Submission',\n",
    "    'R_win_by_Submission',\n",
    "    'B_current_win_streak',  \n",
    "    'R_current_win_streak',\n",
    "    'B_current_lose_streak',\n",
    "    'R_current_lose_streak',\n",
    "    'B_Height_cms',\n",
    "    'R_Height_cms',\n",
    "    'B_Weight_lbs',\n",
    "    'R_Weight_lbs',\n",
    "    'B_Reach_cms',\n",
    "    'R_Reach_cms']].values\n",
    "\n",
    "predicted_values = clf.predict(test_features)\n",
    "print(predicted_values)"
   ]
  },
  {
   "cell_type": "code",
   "execution_count": 15,
   "metadata": {},
   "outputs": [],
   "source": [
    "# Saving real values below and predicted values above.\n",
    "real_values = ufc_test['Winner'].values"
   ]
  },
  {
   "cell_type": "code",
   "execution_count": 17,
   "metadata": {},
   "outputs": [
    {
     "data": {
      "text/plain": [
       "False"
      ]
     },
     "execution_count": 17,
     "metadata": {},
     "output_type": "execute_result"
    }
   ],
   "source": [
    "# Check if the predicted is equal to the real values.\n",
    "np.array_equal(real_values,predicted_values)"
   ]
  },
  {
   "cell_type": "code",
   "execution_count": 25,
   "metadata": {},
   "outputs": [],
   "source": [
    "# Check all values one by one. True = prediction was correct and False = prediction failed.\n",
    "check = (real_values == predicted_values)"
   ]
  },
  {
   "cell_type": "code",
   "execution_count": 33,
   "metadata": {},
   "outputs": [
    {
     "data": {
      "text/plain": [
       "800"
      ]
     },
     "execution_count": 33,
     "metadata": {},
     "output_type": "execute_result"
    }
   ],
   "source": [
    "# Total amount of values.\n",
    "check.size"
   ]
  },
  {
   "cell_type": "code",
   "execution_count": 34,
   "metadata": {},
   "outputs": [
    {
     "data": {
      "text/plain": [
       "439"
      ]
     },
     "execution_count": 34,
     "metadata": {},
     "output_type": "execute_result"
    }
   ],
   "source": [
    "# Amount of values predicted correctly out of 800.\n",
    "np.count_nonzero(check)"
   ]
  },
  {
   "cell_type": "code",
   "execution_count": null,
   "metadata": {},
   "outputs": [],
   "source": []
  }
 ],
 "metadata": {
  "kernelspec": {
   "display_name": "Python 3",
   "language": "python",
   "name": "python3"
  },
  "language_info": {
   "codemirror_mode": {
    "name": "ipython",
    "version": 3
   },
   "file_extension": ".py",
   "mimetype": "text/x-python",
   "name": "python",
   "nbconvert_exporter": "python",
   "pygments_lexer": "ipython3",
   "version": "3.7.3"
  }
 },
 "nbformat": 4,
 "nbformat_minor": 2
}
