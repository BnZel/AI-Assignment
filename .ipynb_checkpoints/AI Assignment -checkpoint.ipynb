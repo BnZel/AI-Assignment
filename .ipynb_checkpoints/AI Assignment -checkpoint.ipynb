{
 "cells": [
  {
   "cell_type": "code",
   "execution_count": null,
   "metadata": {},
   "outputs": [],
   "source": []
  },
  {
   "cell_type": "code",
   "execution_count": 22,
   "metadata": {},
   "outputs": [],
   "source": [
    "import numpy as np\n",
    "import pandas as pd"
   ]
  },
  {
   "cell_type": "code",
   "execution_count": 45,
   "metadata": {},
   "outputs": [
    {
     "data": {
      "text/html": [
       "<div>\n",
       "<style scoped>\n",
       "    .dataframe tbody tr th:only-of-type {\n",
       "        vertical-align: middle;\n",
       "    }\n",
       "\n",
       "    .dataframe tbody tr th {\n",
       "        vertical-align: top;\n",
       "    }\n",
       "\n",
       "    .dataframe thead th {\n",
       "        text-align: right;\n",
       "    }\n",
       "</style>\n",
       "<table border=\"1\" class=\"dataframe\">\n",
       "  <thead>\n",
       "    <tr style=\"text-align: right;\">\n",
       "      <th></th>\n",
       "      <th>R_fighter</th>\n",
       "      <th>B_fighter</th>\n",
       "      <th>Referee</th>\n",
       "      <th>date</th>\n",
       "      <th>location</th>\n",
       "      <th>Winner</th>\n",
       "      <th>title_bout</th>\n",
       "      <th>weight_class</th>\n",
       "      <th>no_of_rounds</th>\n",
       "      <th>B_current_lose_streak</th>\n",
       "      <th>...</th>\n",
       "      <th>R_win_by_KO/TKO</th>\n",
       "      <th>R_win_by_Submission</th>\n",
       "      <th>R_win_by_TKO_Doctor_Stoppage</th>\n",
       "      <th>R_wins</th>\n",
       "      <th>R_Stance</th>\n",
       "      <th>R_Height_cms</th>\n",
       "      <th>R_Reach_cms</th>\n",
       "      <th>R_Weight_lbs</th>\n",
       "      <th>B_age</th>\n",
       "      <th>R_age</th>\n",
       "    </tr>\n",
       "  </thead>\n",
       "  <tbody>\n",
       "    <tr>\n",
       "      <th>0</th>\n",
       "      <td>Henry Cejudo</td>\n",
       "      <td>Marlon Moraes</td>\n",
       "      <td>Marc Goddard</td>\n",
       "      <td>2019-06-08</td>\n",
       "      <td>Chicago, Illinois, USA</td>\n",
       "      <td>Red</td>\n",
       "      <td>True</td>\n",
       "      <td>Bantamweight</td>\n",
       "      <td>5</td>\n",
       "      <td>0.0</td>\n",
       "      <td>...</td>\n",
       "      <td>2.0</td>\n",
       "      <td>0.0</td>\n",
       "      <td>0.0</td>\n",
       "      <td>8.0</td>\n",
       "      <td>Orthodox</td>\n",
       "      <td>162.56</td>\n",
       "      <td>162.56</td>\n",
       "      <td>135.0</td>\n",
       "      <td>31.0</td>\n",
       "      <td>32.0</td>\n",
       "    </tr>\n",
       "    <tr>\n",
       "      <th>1</th>\n",
       "      <td>Valentina Shevchenko</td>\n",
       "      <td>Jessica Eye</td>\n",
       "      <td>Robert Madrigal</td>\n",
       "      <td>2019-06-08</td>\n",
       "      <td>Chicago, Illinois, USA</td>\n",
       "      <td>Red</td>\n",
       "      <td>True</td>\n",
       "      <td>Women's Flyweight</td>\n",
       "      <td>5</td>\n",
       "      <td>0.0</td>\n",
       "      <td>...</td>\n",
       "      <td>0.0</td>\n",
       "      <td>2.0</td>\n",
       "      <td>0.0</td>\n",
       "      <td>5.0</td>\n",
       "      <td>Southpaw</td>\n",
       "      <td>165.10</td>\n",
       "      <td>167.64</td>\n",
       "      <td>125.0</td>\n",
       "      <td>32.0</td>\n",
       "      <td>31.0</td>\n",
       "    </tr>\n",
       "    <tr>\n",
       "      <th>2</th>\n",
       "      <td>Tony Ferguson</td>\n",
       "      <td>Donald Cerrone</td>\n",
       "      <td>Dan Miragliotta</td>\n",
       "      <td>2019-06-08</td>\n",
       "      <td>Chicago, Illinois, USA</td>\n",
       "      <td>Red</td>\n",
       "      <td>False</td>\n",
       "      <td>Lightweight</td>\n",
       "      <td>3</td>\n",
       "      <td>0.0</td>\n",
       "      <td>...</td>\n",
       "      <td>3.0</td>\n",
       "      <td>6.0</td>\n",
       "      <td>1.0</td>\n",
       "      <td>14.0</td>\n",
       "      <td>Orthodox</td>\n",
       "      <td>180.34</td>\n",
       "      <td>193.04</td>\n",
       "      <td>155.0</td>\n",
       "      <td>36.0</td>\n",
       "      <td>35.0</td>\n",
       "    </tr>\n",
       "    <tr>\n",
       "      <th>3</th>\n",
       "      <td>Jimmie Rivera</td>\n",
       "      <td>Petr Yan</td>\n",
       "      <td>Kevin MacDonald</td>\n",
       "      <td>2019-06-08</td>\n",
       "      <td>Chicago, Illinois, USA</td>\n",
       "      <td>Blue</td>\n",
       "      <td>False</td>\n",
       "      <td>Bantamweight</td>\n",
       "      <td>3</td>\n",
       "      <td>0.0</td>\n",
       "      <td>...</td>\n",
       "      <td>1.0</td>\n",
       "      <td>0.0</td>\n",
       "      <td>0.0</td>\n",
       "      <td>6.0</td>\n",
       "      <td>Orthodox</td>\n",
       "      <td>162.56</td>\n",
       "      <td>172.72</td>\n",
       "      <td>135.0</td>\n",
       "      <td>26.0</td>\n",
       "      <td>29.0</td>\n",
       "    </tr>\n",
       "    <tr>\n",
       "      <th>4</th>\n",
       "      <td>Tai Tuivasa</td>\n",
       "      <td>Blagoy Ivanov</td>\n",
       "      <td>Dan Miragliotta</td>\n",
       "      <td>2019-06-08</td>\n",
       "      <td>Chicago, Illinois, USA</td>\n",
       "      <td>Blue</td>\n",
       "      <td>False</td>\n",
       "      <td>Heavyweight</td>\n",
       "      <td>3</td>\n",
       "      <td>0.0</td>\n",
       "      <td>...</td>\n",
       "      <td>2.0</td>\n",
       "      <td>0.0</td>\n",
       "      <td>0.0</td>\n",
       "      <td>3.0</td>\n",
       "      <td>Southpaw</td>\n",
       "      <td>187.96</td>\n",
       "      <td>190.50</td>\n",
       "      <td>264.0</td>\n",
       "      <td>32.0</td>\n",
       "      <td>26.0</td>\n",
       "    </tr>\n",
       "  </tbody>\n",
       "</table>\n",
       "<p>5 rows × 145 columns</p>\n",
       "</div>"
      ],
      "text/plain": [
       "              R_fighter       B_fighter          Referee        date  \\\n",
       "0          Henry Cejudo   Marlon Moraes     Marc Goddard  2019-06-08   \n",
       "1  Valentina Shevchenko     Jessica Eye  Robert Madrigal  2019-06-08   \n",
       "2         Tony Ferguson  Donald Cerrone  Dan Miragliotta  2019-06-08   \n",
       "3         Jimmie Rivera        Petr Yan  Kevin MacDonald  2019-06-08   \n",
       "4           Tai Tuivasa   Blagoy Ivanov  Dan Miragliotta  2019-06-08   \n",
       "\n",
       "                 location Winner  title_bout       weight_class  no_of_rounds  \\\n",
       "0  Chicago, Illinois, USA    Red        True       Bantamweight             5   \n",
       "1  Chicago, Illinois, USA    Red        True  Women's Flyweight             5   \n",
       "2  Chicago, Illinois, USA    Red       False        Lightweight             3   \n",
       "3  Chicago, Illinois, USA   Blue       False       Bantamweight             3   \n",
       "4  Chicago, Illinois, USA   Blue       False        Heavyweight             3   \n",
       "\n",
       "   B_current_lose_streak  ...  R_win_by_KO/TKO  R_win_by_Submission  \\\n",
       "0                    0.0  ...              2.0                  0.0   \n",
       "1                    0.0  ...              0.0                  2.0   \n",
       "2                    0.0  ...              3.0                  6.0   \n",
       "3                    0.0  ...              1.0                  0.0   \n",
       "4                    0.0  ...              2.0                  0.0   \n",
       "\n",
       "   R_win_by_TKO_Doctor_Stoppage  R_wins  R_Stance  R_Height_cms  R_Reach_cms  \\\n",
       "0                           0.0     8.0  Orthodox        162.56       162.56   \n",
       "1                           0.0     5.0  Southpaw        165.10       167.64   \n",
       "2                           1.0    14.0  Orthodox        180.34       193.04   \n",
       "3                           0.0     6.0  Orthodox        162.56       172.72   \n",
       "4                           0.0     3.0  Southpaw        187.96       190.50   \n",
       "\n",
       "   R_Weight_lbs  B_age  R_age  \n",
       "0         135.0   31.0   32.0  \n",
       "1         125.0   32.0   31.0  \n",
       "2         155.0   36.0   35.0  \n",
       "3         135.0   26.0   29.0  \n",
       "4         264.0   32.0   26.0  \n",
       "\n",
       "[5 rows x 145 columns]"
      ]
     },
     "execution_count": 45,
     "metadata": {},
     "output_type": "execute_result"
    }
   ],
   "source": [
    "# Import the data from csv.\n",
    "ufc = pd.read_csv('data/data.csv')\n",
    "ufc.head()"
   ]
  },
  {
   "cell_type": "code",
   "execution_count": 13,
   "metadata": {},
   "outputs": [
    {
     "data": {
      "text/plain": [
       "0"
      ]
     },
     "execution_count": 13,
     "metadata": {},
     "output_type": "execute_result"
    }
   ],
   "source": [
    "# Check for duplicate values.\n",
    "ufc.duplicated().sum()"
   ]
  },
  {
   "cell_type": "code",
   "execution_count": 14,
   "metadata": {},
   "outputs": [
    {
     "data": {
      "text/plain": [
       "R_fighter         0\n",
       "B_fighter         0\n",
       "Referee          23\n",
       "date              0\n",
       "location          0\n",
       "               ... \n",
       "R_Height_cms      4\n",
       "R_Reach_cms     316\n",
       "R_Weight_lbs      3\n",
       "B_age           172\n",
       "R_age            64\n",
       "Length: 145, dtype: int64"
      ]
     },
     "execution_count": 14,
     "metadata": {},
     "output_type": "execute_result"
    }
   ],
   "source": [
    "# Check for null values.\n",
    "ufc.isnull().sum()"
   ]
  },
  {
   "cell_type": "code",
   "execution_count": 15,
   "metadata": {},
   "outputs": [],
   "source": [
    "# We must remove all rows that have null values!\n",
    "ufc = ufc.dropna(how='any',axis=0) "
   ]
  },
  {
   "cell_type": "code",
   "execution_count": 16,
   "metadata": {},
   "outputs": [
    {
     "data": {
      "text/plain": [
       "3202"
      ]
     },
     "execution_count": 16,
     "metadata": {},
     "output_type": "execute_result"
    }
   ],
   "source": [
    "# The number of rows was descovered to be 5144 before removing all null value rows using len(ufc.index)\n",
    "len(ufc.index)"
   ]
  },
  {
   "cell_type": "code",
   "execution_count": 17,
   "metadata": {},
   "outputs": [],
   "source": [
    "# We must split the 3202 rows into testing and learning.\n",
    "ufc_train = ufc.sample(frac = 0.75, random_state = 99)\n",
    "ufc_test = ufc.loc[~ufc.index.isin(ufc_train.index), :]"
   ]
  },
  {
   "cell_type": "code",
   "execution_count": null,
   "metadata": {},
   "outputs": [],
   "source": []
  },
  {
   "cell_type": "code",
   "execution_count": 18,
   "metadata": {},
   "outputs": [
    {
     "name": "stdout",
     "output_type": "stream",
     "text": [
      "['Blue' 'Red' 'Red' 'Blue' 'Blue' 'Blue' 'Red' 'Red' 'Red' 'Blue' 'Red'\n",
      " 'Blue' 'Red' 'Red' 'Blue' 'Red' 'Blue' 'Red' 'Blue' 'Blue' 'Red' 'Red'\n",
      " 'Blue' 'Red' 'Red' 'Blue' 'Red' 'Red' 'Blue' 'Red' 'Blue' 'Blue' 'Red'\n",
      " 'Red' 'Red' 'Blue' 'Red' 'Red' 'Red' 'Blue' 'Blue' 'Red' 'Red' 'Red'\n",
      " 'Red' 'Blue' 'Blue' 'Red' 'Red' 'Red' 'Red' 'Blue' 'Red' 'Blue' 'Blue'\n",
      " 'Red' 'Red' 'Red' 'Red' 'Red' 'Red' 'Blue' 'Red' 'Red' 'Red' 'Red' 'Red'\n",
      " 'Red' 'Red' 'Blue' 'Red' 'Blue' 'Blue' 'Blue' 'Blue' 'Blue' 'Draw' 'Red'\n",
      " 'Red' 'Blue' 'Blue' 'Blue' 'Red' 'Red' 'Blue' 'Blue' 'Red' 'Blue' 'Red'\n",
      " 'Red' 'Blue' 'Red' 'Red' 'Blue' 'Red' 'Red' 'Red' 'Blue' 'Red' 'Blue'\n",
      " 'Blue' 'Blue' 'Red' 'Red' 'Red' 'Red' 'Red' 'Red' 'Red' 'Blue' 'Red'\n",
      " 'Red' 'Red' 'Red' 'Red' 'Red' 'Red' 'Red' 'Blue' 'Red' 'Draw' 'Blue'\n",
      " 'Red' 'Red' 'Blue' 'Red' 'Red' 'Blue' 'Red' 'Blue' 'Red' 'Blue' 'Blue'\n",
      " 'Blue' 'Draw' 'Blue' 'Blue' 'Blue' 'Blue' 'Red' 'Red' 'Red' 'Red' 'Blue'\n",
      " 'Blue' 'Blue' 'Blue' 'Red' 'Red' 'Blue' 'Blue' 'Blue' 'Red' 'Blue' 'Red'\n",
      " 'Red' 'Blue' 'Red' 'Blue' 'Blue' 'Red' 'Blue' 'Red' 'Blue' 'Red' 'Red'\n",
      " 'Blue' 'Red' 'Red' 'Red' 'Red' 'Draw' 'Red' 'Red' 'Blue' 'Red' 'Blue'\n",
      " 'Red' 'Blue' 'Red' 'Red' 'Red' 'Red' 'Blue' 'Blue' 'Blue' 'Red' 'Red'\n",
      " 'Red' 'Red' 'Draw' 'Blue' 'Blue' 'Red' 'Blue' 'Red' 'Blue' 'Red' 'Red'\n",
      " 'Blue' 'Blue' 'Blue' 'Blue' 'Red' 'Blue' 'Blue' 'Red' 'Blue' 'Draw' 'Red'\n",
      " 'Red' 'Blue' 'Red' 'Blue' 'Red' 'Red' 'Red' 'Blue' 'Red' 'Blue' 'Red'\n",
      " 'Red' 'Red' 'Red' 'Red' 'Red' 'Blue' 'Red' 'Blue' 'Red' 'Red' 'Blue'\n",
      " 'Blue' 'Blue' 'Red' 'Red' 'Red' 'Blue' 'Blue' 'Red' 'Red' 'Blue' 'Blue'\n",
      " 'Red' 'Red' 'Blue' 'Red' 'Red' 'Red' 'Red' 'Red' 'Red' 'Red' 'Red' 'Blue'\n",
      " 'Red' 'Blue' 'Red' 'Red' 'Blue' 'Blue' 'Blue' 'Blue' 'Red' 'Blue' 'Draw'\n",
      " 'Red' 'Blue' 'Red' 'Blue' 'Red' 'Blue' 'Red' 'Blue' 'Red' 'Blue' 'Red'\n",
      " 'Blue' 'Red' 'Red' 'Red' 'Red' 'Blue' 'Red' 'Blue' 'Red' 'Red' 'Red'\n",
      " 'Red' 'Blue' 'Blue' 'Red' 'Blue' 'Red' 'Red' 'Red' 'Blue' 'Blue' 'Red'\n",
      " 'Red' 'Blue' 'Red' 'Red' 'Red' 'Red' 'Blue' 'Blue' 'Red' 'Red' 'Red'\n",
      " 'Red' 'Blue' 'Red' 'Blue' 'Blue' 'Blue' 'Blue' 'Red' 'Blue' 'Red' 'Red'\n",
      " 'Red' 'Red' 'Red' 'Blue' 'Red' 'Red' 'Red' 'Red' 'Red' 'Blue' 'Red' 'Red'\n",
      " 'Red' 'Red' 'Red' 'Red' 'Red' 'Red' 'Blue' 'Draw' 'Red' 'Red' 'Blue'\n",
      " 'Blue' 'Red' 'Red' 'Red' 'Red' 'Red' 'Red' 'Blue' 'Blue' 'Red' 'Red'\n",
      " 'Blue' 'Red' 'Red' 'Red' 'Red' 'Red' 'Red' 'Blue' 'Red' 'Blue' 'Red'\n",
      " 'Red' 'Blue' 'Red' 'Red' 'Blue' 'Blue' 'Red' 'Blue' 'Draw' 'Blue' 'Blue'\n",
      " 'Red' 'Blue' 'Draw' 'Blue' 'Red' 'Red' 'Red' 'Red' 'Red' 'Red' 'Red'\n",
      " 'Red' 'Red' 'Red' 'Red' 'Red' 'Red' 'Red' 'Blue' 'Blue' 'Red' 'Red' 'Red'\n",
      " 'Red' 'Red' 'Red' 'Red' 'Red' 'Red' 'Red' 'Red' 'Red' 'Blue' 'Blue' 'Red'\n",
      " 'Red' 'Blue' 'Red' 'Blue' 'Blue' 'Red' 'Blue' 'Red' 'Red' 'Blue' 'Red'\n",
      " 'Blue' 'Blue' 'Blue' 'Red' 'Red' 'Blue' 'Red' 'Blue' 'Blue' 'Red' 'Red'\n",
      " 'Red' 'Blue' 'Red' 'Red' 'Red' 'Red' 'Blue' 'Red' 'Red' 'Draw' 'Red'\n",
      " 'Red' 'Red' 'Red' 'Blue' 'Red' 'Red' 'Red' 'Red' 'Red' 'Blue' 'Blue'\n",
      " 'Blue' 'Red' 'Blue' 'Blue' 'Blue' 'Red' 'Red' 'Blue' 'Blue' 'Blue' 'Red'\n",
      " 'Blue' 'Red' 'Red' 'Red' 'Red' 'Red' 'Blue' 'Red' 'Draw' 'Red' 'Red'\n",
      " 'Red' 'Red' 'Blue' 'Blue' 'Blue' 'Blue' 'Red' 'Draw' 'Red' 'Red' 'Red'\n",
      " 'Draw' 'Red' 'Blue' 'Red' 'Red' 'Blue' 'Red' 'Red' 'Blue' 'Red' 'Red'\n",
      " 'Blue' 'Red' 'Blue' 'Red' 'Red' 'Draw' 'Red' 'Red' 'Red' 'Red' 'Red'\n",
      " 'Red' 'Red' 'Red' 'Blue' 'Red' 'Red' 'Red' 'Red' 'Blue' 'Blue' 'Blue'\n",
      " 'Red' 'Blue' 'Blue' 'Red' 'Blue' 'Red' 'Blue' 'Red' 'Blue' 'Red' 'Blue'\n",
      " 'Red' 'Blue' 'Blue' 'Red' 'Red' 'Red' 'Red' 'Blue' 'Blue' 'Red' 'Red'\n",
      " 'Red' 'Blue' 'Blue' 'Red' 'Red' 'Blue' 'Draw' 'Red' 'Red' 'Blue' 'Red'\n",
      " 'Red' 'Red' 'Blue' 'Red' 'Red' 'Red' 'Red' 'Red' 'Red' 'Blue' 'Blue'\n",
      " 'Blue' 'Red' 'Blue' 'Blue' 'Red' 'Blue' 'Blue' 'Red' 'Red' 'Red' 'Draw'\n",
      " 'Blue' 'Red' 'Blue' 'Red' 'Blue' 'Red' 'Red' 'Red' 'Blue' 'Red' 'Red'\n",
      " 'Blue' 'Blue' 'Red' 'Red' 'Red' 'Red' 'Blue' 'Blue' 'Blue' 'Red' 'Red'\n",
      " 'Red' 'Blue' 'Red' 'Red' 'Red' 'Red' 'Blue' 'Blue' 'Blue' 'Red' 'Blue'\n",
      " 'Blue' 'Red' 'Blue' 'Red' 'Blue' 'Red' 'Red' 'Red' 'Red' 'Red' 'Blue'\n",
      " 'Blue' 'Red' 'Blue' 'Red' 'Red' 'Red' 'Blue' 'Blue' 'Red' 'Red' 'Blue'\n",
      " 'Red' 'Blue' 'Red' 'Red' 'Red' 'Red' 'Red' 'Red' 'Blue' 'Red' 'Red' 'Red'\n",
      " 'Red' 'Red' 'Blue' 'Blue' 'Blue' 'Red' 'Red' 'Red' 'Red' 'Blue' 'Red'\n",
      " 'Blue' 'Red' 'Blue' 'Red' 'Blue' 'Blue' 'Red' 'Red' 'Red' 'Red' 'Blue'\n",
      " 'Red' 'Red' 'Red' 'Red' 'Red' 'Blue' 'Red' 'Red' 'Blue' 'Red' 'Blue'\n",
      " 'Red' 'Red' 'Red' 'Red' 'Blue' 'Blue' 'Blue' 'Red' 'Red' 'Blue' 'Red'\n",
      " 'Red' 'Red' 'Blue' 'Red' 'Red' 'Red' 'Red' 'Blue' 'Red' 'Blue' 'Blue'\n",
      " 'Red' 'Blue' 'Red' 'Red' 'Red' 'Blue' 'Blue' 'Red' 'Red' 'Blue' 'Red'\n",
      " 'Blue' 'Red' 'Blue' 'Red' 'Red' 'Red' 'Red' 'Red' 'Blue' 'Red' 'Red'\n",
      " 'Blue' 'Blue' 'Red' 'Red' 'Blue' 'Blue' 'Red' 'Red' 'Red' 'Blue' 'Blue'\n",
      " 'Red' 'Red' 'Red' 'Red' 'Red' 'Red' 'Blue' 'Red' 'Red' 'Red' 'Red' 'Red'\n",
      " 'Red' 'Red' 'Red' 'Red' 'Blue' 'Red' 'Red' 'Blue' 'Red' 'Red' 'Red'\n",
      " 'Blue' 'Red' 'Red' 'Red' 'Red' 'Red' 'Red' 'Red' 'Blue' 'Blue' 'Red'\n",
      " 'Red' 'Blue' 'Red' 'Blue' 'Red' 'Blue' 'Blue' 'Red' 'Red' 'Red' 'Red'\n",
      " 'Red' 'Draw' 'Blue' 'Red' 'Red' 'Red' 'Red' 'Red' 'Red' 'Red' 'Blue'\n",
      " 'Red' 'Blue' 'Red' 'Red' 'Red' 'Red' 'Red' 'Red' 'Red' 'Blue' 'Blue'\n",
      " 'Blue']\n"
     ]
    }
   ],
   "source": [
    "from sklearn import tree\n",
    "\n",
    "# Initializing Variables\n",
    "features = ufc_train[[\n",
    "    'B_wins', \n",
    "    'R_wins',  \n",
    "    'B_losses',\n",
    "    'R_losses',\n",
    "    'B_win_by_KO/TKO',\n",
    "    'R_win_by_KO/TKO',\n",
    "    'B_win_by_Submission',\n",
    "    'R_win_by_Submission',\n",
    "    'B_current_win_streak',  \n",
    "    'R_current_win_streak',\n",
    "    'B_current_lose_streak',\n",
    "    'R_current_lose_streak',\n",
    "    'B_Height_cms',\n",
    "    'R_Height_cms',\n",
    "    'B_Weight_lbs',\n",
    "    'R_Weight_lbs',\n",
    "    'B_Reach_cms',\n",
    "    'R_Reach_cms']].values\n",
    "\n",
    "labels = ufc_train['Winner'].values\n",
    "\n",
    "# Learning Code\n",
    "clf = tree.DecisionTreeClassifier() \n",
    "cls = clf.fit(features, labels) \n",
    "\n",
    "# Prediction Code\n",
    "test_features = ufc_test[[\n",
    "    'B_wins', \n",
    "    'R_wins',  \n",
    "    'B_losses',\n",
    "    'R_losses',\n",
    "    'B_win_by_KO/TKO',\n",
    "    'R_win_by_KO/TKO',\n",
    "    'B_win_by_Submission',\n",
    "    'R_win_by_Submission',\n",
    "    'B_current_win_streak',  \n",
    "    'R_current_win_streak',\n",
    "    'B_current_lose_streak',\n",
    "    'R_current_lose_streak',\n",
    "    'B_Height_cms',\n",
    "    'R_Height_cms',\n",
    "    'B_Weight_lbs',\n",
    "    'R_Weight_lbs',\n",
    "    'B_Reach_cms',\n",
    "    'R_Reach_cms']].values\n",
    "\n",
    "predicted_values = clf.predict(test_features)\n",
    "print(predicted_values)"
   ]
  },
  {
   "cell_type": "code",
   "execution_count": 20,
   "metadata": {},
   "outputs": [],
   "source": [
    "# Saving real values below and predicted values above.\n",
    "real_values = ufc_test['Winner'].values"
   ]
  },
  {
   "cell_type": "code",
   "execution_count": 23,
   "metadata": {},
   "outputs": [
    {
     "data": {
      "text/plain": [
       "False"
      ]
     },
     "execution_count": 23,
     "metadata": {},
     "output_type": "execute_result"
    }
   ],
   "source": [
    "# Check if the predicted is equal to the real values.\n",
    "np.array_equal(real_values,predicted_values)"
   ]
  },
  {
   "cell_type": "code",
   "execution_count": 27,
   "metadata": {},
   "outputs": [
    {
     "data": {
      "text/plain": [
       "array([False, False,  True, False,  True,  True,  True, False, False,\n",
       "        True, False,  True,  True,  True, False,  True,  True,  True,\n",
       "       False,  True, False, False,  True, False, False, False, False,\n",
       "        True,  True,  True,  True,  True,  True,  True,  True,  True,\n",
       "        True, False,  True,  True,  True, False,  True,  True, False,\n",
       "       False, False, False, False,  True,  True, False,  True, False,\n",
       "       False,  True,  True,  True, False, False, False,  True, False,\n",
       "        True, False,  True, False,  True,  True,  True,  True, False,\n",
       "       False,  True, False, False, False,  True,  True, False, False,\n",
       "        True, False, False,  True, False,  True,  True, False,  True,\n",
       "        True, False, False,  True, False, False,  True, False,  True,\n",
       "       False, False, False,  True,  True, False, False,  True, False,\n",
       "       False, False, False,  True,  True,  True,  True,  True,  True,\n",
       "       False, False,  True, False, False,  True, False, False, False,\n",
       "        True, False,  True, False,  True,  True, False,  True, False,\n",
       "       False, False, False,  True, False,  True, False,  True, False,\n",
       "       False, False, False,  True, False, False,  True, False,  True,\n",
       "       False,  True, False,  True,  True,  True,  True,  True,  True,\n",
       "       False, False,  True,  True,  True,  True,  True, False,  True,\n",
       "       False,  True, False, False, False,  True,  True,  True,  True,\n",
       "        True,  True, False,  True, False,  True,  True,  True,  True,\n",
       "       False, False, False, False, False, False,  True, False, False,\n",
       "        True, False,  True,  True,  True, False, False,  True,  True,\n",
       "        True, False,  True, False, False,  True, False, False, False,\n",
       "        True, False,  True,  True,  True,  True, False, False, False,\n",
       "       False,  True,  True, False,  True, False, False, False,  True,\n",
       "        True,  True,  True, False, False, False,  True,  True, False,\n",
       "        True,  True, False,  True,  True, False,  True,  True,  True,\n",
       "       False,  True, False,  True,  True, False, False, False, False,\n",
       "       False,  True, False,  True, False, False,  True, False, False,\n",
       "        True,  True,  True,  True, False, False,  True,  True, False,\n",
       "        True, False,  True, False, False, False,  True,  True, False,\n",
       "        True,  True,  True,  True,  True, False,  True, False, False,\n",
       "       False, False, False, False,  True, False,  True, False,  True,\n",
       "        True, False, False,  True,  True, False,  True, False,  True,\n",
       "       False,  True,  True,  True,  True, False,  True,  True,  True,\n",
       "        True, False,  True, False,  True, False, False, False, False,\n",
       "       False,  True, False,  True, False,  True,  True,  True,  True,\n",
       "       False,  True, False, False, False, False,  True, False, False,\n",
       "        True,  True,  True,  True, False,  True,  True,  True, False,\n",
       "       False,  True,  True,  True,  True, False, False,  True, False,\n",
       "        True,  True, False,  True, False, False, False, False, False,\n",
       "        True, False,  True,  True, False,  True, False,  True, False,\n",
       "        True,  True, False, False,  True, False,  True,  True,  True,\n",
       "       False,  True, False,  True,  True, False,  True,  True,  True,\n",
       "       False, False, False, False,  True, False,  True, False,  True,\n",
       "        True,  True, False,  True, False,  True, False,  True, False,\n",
       "        True, False,  True,  True, False, False, False,  True, False,\n",
       "        True,  True, False,  True,  True, False,  True, False,  True,\n",
       "       False,  True, False,  True,  True,  True, False, False, False,\n",
       "        True,  True, False,  True,  True, False, False,  True, False,\n",
       "       False,  True,  True, False,  True,  True, False,  True,  True,\n",
       "       False,  True,  True, False,  True, False, False, False,  True,\n",
       "        True,  True, False, False, False, False, False,  True, False,\n",
       "        True,  True,  True, False,  True, False, False,  True,  True,\n",
       "        True,  True,  True,  True,  True, False,  True, False,  True,\n",
       "        True, False,  True,  True,  True,  True,  True,  True, False,\n",
       "       False, False, False,  True, False,  True,  True,  True, False,\n",
       "        True,  True,  True, False,  True,  True, False,  True, False,\n",
       "        True, False,  True,  True,  True,  True, False,  True,  True,\n",
       "        True, False,  True,  True, False,  True, False, False,  True,\n",
       "       False, False,  True,  True,  True, False,  True,  True,  True,\n",
       "       False, False,  True, False, False,  True,  True, False, False,\n",
       "       False, False, False,  True, False, False,  True,  True,  True,\n",
       "       False, False,  True, False, False,  True, False, False,  True,\n",
       "       False,  True, False,  True, False,  True,  True, False, False,\n",
       "       False, False, False,  True, False,  True, False,  True,  True,\n",
       "        True,  True,  True, False, False, False, False, False, False,\n",
       "       False, False,  True, False, False, False,  True,  True, False,\n",
       "       False,  True,  True,  True, False, False, False,  True,  True,\n",
       "       False,  True, False, False, False,  True,  True, False, False,\n",
       "       False,  True,  True,  True, False, False, False,  True, False,\n",
       "        True,  True, False, False, False,  True,  True,  True, False,\n",
       "       False,  True, False, False,  True,  True,  True,  True, False,\n",
       "        True,  True,  True,  True,  True, False,  True,  True, False,\n",
       "        True, False,  True,  True,  True,  True, False, False, False,\n",
       "        True,  True, False,  True,  True,  True, False,  True,  True,\n",
       "        True,  True, False,  True, False, False,  True, False,  True,\n",
       "        True,  True, False, False,  True,  True, False,  True, False,\n",
       "        True, False,  True,  True,  True,  True,  True, False,  True,\n",
       "        True, False, False,  True,  True, False, False,  True,  True,\n",
       "        True, False, False,  True,  True,  True,  True,  True,  True,\n",
       "       False,  True,  True,  True,  True,  True,  True,  True, False,\n",
       "        True, False,  True,  True, False,  True,  True,  True, False,\n",
       "        True,  True,  True,  True,  True,  True,  True, False, False,\n",
       "        True,  True, False,  True, False,  True, False, False,  True,\n",
       "        True,  True,  True,  True, False, False,  True,  True,  True,\n",
       "        True,  True,  True,  True, False,  True, False,  True,  True,\n",
       "        True,  True,  True,  True,  True, False, False, False])"
      ]
     },
     "execution_count": 27,
     "metadata": {},
     "output_type": "execute_result"
    }
   ],
   "source": [
    "# Check all values one by one. True = prediction was correct and False = prediction failed.\n",
    "check = (real_values == predicted_values)\n",
    "check"
   ]
  },
  {
   "cell_type": "code",
   "execution_count": 25,
   "metadata": {},
   "outputs": [
    {
     "data": {
      "text/plain": [
       "800"
      ]
     },
     "execution_count": 25,
     "metadata": {},
     "output_type": "execute_result"
    }
   ],
   "source": [
    "# Total amount of values.\n",
    "check.size"
   ]
  },
  {
   "cell_type": "code",
   "execution_count": 26,
   "metadata": {},
   "outputs": [
    {
     "data": {
      "text/plain": [
       "437"
      ]
     },
     "execution_count": 26,
     "metadata": {},
     "output_type": "execute_result"
    }
   ],
   "source": [
    "# Amount of values predicted correctly out of 800.\n",
    "np.count_nonzero(check)"
   ]
  },
  {
   "cell_type": "code",
   "execution_count": null,
   "metadata": {},
   "outputs": [],
   "source": []
  },
  {
   "cell_type": "code",
   "execution_count": 43,
   "metadata": {},
   "outputs": [],
   "source": []
  },
  {
   "cell_type": "code",
   "execution_count": null,
   "metadata": {},
   "outputs": [],
   "source": []
  }
 ],
 "metadata": {
  "kernelspec": {
   "display_name": "Python 3",
   "language": "python",
   "name": "python3"
  },
  "language_info": {
   "codemirror_mode": {
    "name": "ipython",
    "version": 3
   },
   "file_extension": ".py",
   "mimetype": "text/x-python",
   "name": "python",
   "nbconvert_exporter": "python",
   "pygments_lexer": "ipython3",
   "version": "3.7.4"
  }
 },
 "nbformat": 4,
 "nbformat_minor": 2
}
